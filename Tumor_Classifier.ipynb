{
 "cells": [
  {
   "cell_type": "code",
   "execution_count": 45,
   "id": "933147e5-55d0-4aef-aa7c-44a4ad7faf77",
   "metadata": {},
   "outputs": [],
   "source": [
    "import numpy as np \n",
    "from tqdm import tqdm\n",
    "import os\n",
    "import cv2\n",
    "import numpy as np"
   ]
  },
  {
   "cell_type": "code",
   "execution_count": 46,
   "id": "75452244-f61b-446e-afef-5b84e61fcaff",
   "metadata": {},
   "outputs": [],
   "source": [
    "REBUILD_DATA = True # set to true to one once, then back to false unless you want to change something in your training data."
   ]
  },
  {
   "cell_type": "code",
   "execution_count": 47,
   "id": "7c122f24-dbd5-401d-abc4-41656bf3e85b",
   "metadata": {},
   "outputs": [],
   "source": [
    "class TumorImages:\n",
    "    IMG_SIZE = 50\n",
    "    YES = \"Resources/brain_tumor_dataset/yes\"\n",
    "    NO = \"Resources/brain_tumor_dataset/no\"\n",
    "    LABELS = {NO: 0, YES: 1}\n",
    "    training_data = []\n",
    "\n",
    "    yescount = 0\n",
    "    nocount = 0\n",
    "\n",
    "    def make_training_data(self):\n",
    "        for label in self.LABELS:\n",
    "            print(label)\n",
    "            for f in tqdm(os.listdir(label)):\n",
    "                if \"jpg\" in f.lower() or \"jpeg\" in f.lower():\n",
    "                    try:\n",
    "                        path = os.path.join(label, f)\n",
    "                        img = cv2.imread(path, cv2.IMREAD_GRAYSCALE)\n",
    "                        img = cv2.resize(img, (self.IMG_SIZE, self.IMG_SIZE))\n",
    "                        self.training_data.append([np.array(img), np.eye(2)[self.LABELS[label]]])\n",
    "                        \n",
    "                        if label == self.YES:\n",
    "                            self.yescount += 1\n",
    "                        elif label == self.NO:\n",
    "                            self.nocount += 1\n",
    "\n",
    "                    except Exception as e:\n",
    "                        pass\n",
    "\n",
    "        np.random.shuffle(self.training_data)\n",
    "        \n",
    "        # Separate features and labels\n",
    "        X = np.array([i[0] for i in self.training_data])\n",
    "        y = np.array([i[1] for i in self.training_data])\n",
    "\n",
    "        np.save(\"X.npy\", X)\n",
    "        np.save(\"y.npy\", y)\n",
    "        print('Tumor:', self.yescount)\n",
    "        print('No Tumor:', self.nocount)"
   ]
  },
  {
   "cell_type": "code",
   "execution_count": 48,
   "id": "e4bc2ddf-28c7-44a9-9d84-66e865f98c90",
   "metadata": {},
   "outputs": [
    {
     "name": "stdout",
     "output_type": "stream",
     "text": [
      "Resources/brain_tumor_dataset/no\n"
     ]
    },
    {
     "name": "stderr",
     "output_type": "stream",
     "text": [
      "100%|██████████| 98/98 [00:00<00:00, 1318.49it/s]\n"
     ]
    },
    {
     "name": "stdout",
     "output_type": "stream",
     "text": [
      "Resources/brain_tumor_dataset/yes\n"
     ]
    },
    {
     "name": "stderr",
     "output_type": "stream",
     "text": [
      "100%|██████████| 155/155 [00:00<00:00, 1419.58it/s]"
     ]
    },
    {
     "name": "stdout",
     "output_type": "stream",
     "text": [
      "Tumor: 154\n",
      "No Tumor: 97\n"
     ]
    },
    {
     "name": "stderr",
     "output_type": "stream",
     "text": [
      "\n"
     ]
    }
   ],
   "source": [
    "if REBUILD_DATA:\n",
    "    tumors = TumorImages()\n",
    "    tumors.make_training_data()\n",
    "\n",
    "X = np.load(\"X.npy\", allow_pickle=True)\n",
    "y = np.load(\"y.npy\", allow_pickle=True)"
   ]
  },
  {
   "cell_type": "code",
   "execution_count": 49,
   "id": "4120735b",
   "metadata": {},
   "outputs": [
    {
     "data": {
      "text/plain": [
       "numpy.ndarray"
      ]
     },
     "execution_count": 49,
     "metadata": {},
     "output_type": "execute_result"
    }
   ],
   "source": [
    "type(X)"
   ]
  },
  {
   "cell_type": "code",
   "execution_count": 50,
   "id": "11db05df-0e18-4b8b-8602-365e7522b188",
   "metadata": {},
   "outputs": [],
   "source": [
    "from sklearn.model_selection import train_test_split\n",
    "\n",
    "# Split the data\n",
    "X_train, X_test, y_train, y_test = train_test_split(X, y, test_size=0.25, random_state=42)\n",
    "\n",
    "# Normalize the images\n",
    "X_train = X_train / 255.0\n",
    "X_test = X_test / 255.0"
   ]
  },
  {
   "cell_type": "code",
   "execution_count": 51,
   "id": "a4d633e5",
   "metadata": {},
   "outputs": [],
   "source": [
    "import tensorflow as tf\n",
    "from tensorflow.keras.applications import VGG16\n",
    "from tensorflow.keras.models import Model\n",
    "from tensorflow.keras.layers import Dense, Flatten, Dropout\n",
    "from tensorflow.keras.optimizers.legacy import Adam #Works better with M3 Macs\n",
    "from sklearn.metrics import accuracy_score, precision_score, recall_score, f1_score\n",
    "\n",
    "X_train_rgb = np.stack([X_train]*3, axis=-1)\n",
    "X_test_rgb = np.stack([X_test]*3, axis=-1)\n",
    "\n",
    "# Load the VGG16 model without the top layers\n",
    "base_model = VGG16(weights='imagenet', include_top=False, input_shape=(50, 50, 3))\n",
    "\n",
    "# Freeze all the layers except the last few\n",
    "for layer in base_model.layers[:-4]:\n",
    "    layer.trainable = False\n",
    "\n",
    "# Add custom layers\n",
    "x = Flatten()(base_model.output)\n",
    "x = Dense(512, activation='relu')(x)\n",
    "x = Dropout(0.5)(x)\n",
    "output = Dense(2, activation='softmax')(x)\n",
    "\n",
    "# Define the model\n",
    "model = Model(inputs=base_model.input, outputs=output)\n",
    "\n",
    "# Compile the model\n",
    "model.compile(optimizer=Adam(learning_rate=1e-4), loss='categorical_crossentropy', metrics=['accuracy'])\n"
   ]
  },
  {
   "cell_type": "code",
   "execution_count": 52,
   "id": "08a7f3fc",
   "metadata": {},
   "outputs": [
    {
     "name": "stdout",
     "output_type": "stream",
     "text": [
      "Epoch 1/50\n"
     ]
    },
    {
     "name": "stderr",
     "output_type": "stream",
     "text": [
      "2024-06-27 16:21:52.597991: I tensorflow/core/grappler/optimizers/custom_graph_optimizer_registry.cc:114] Plugin optimizer for device_type GPU is enabled.\n"
     ]
    },
    {
     "name": "stdout",
     "output_type": "stream",
     "text": [
      "5/5 [==============================] - ETA: 0s - loss: 0.7233 - accuracy: 0.6333"
     ]
    },
    {
     "name": "stderr",
     "output_type": "stream",
     "text": [
      "2024-06-27 16:21:55.837370: I tensorflow/core/grappler/optimizers/custom_graph_optimizer_registry.cc:114] Plugin optimizer for device_type GPU is enabled.\n"
     ]
    },
    {
     "name": "stdout",
     "output_type": "stream",
     "text": [
      "5/5 [==============================] - 4s 309ms/step - loss: 0.7233 - accuracy: 0.6333 - val_loss: 0.6187 - val_accuracy: 0.7632\n",
      "Epoch 2/50\n",
      "5/5 [==============================] - 0s 26ms/step - loss: 0.5157 - accuracy: 0.7667 - val_loss: 0.6096 - val_accuracy: 0.7368\n",
      "Epoch 3/50\n",
      "5/5 [==============================] - 0s 27ms/step - loss: 0.3969 - accuracy: 0.8200 - val_loss: 0.6094 - val_accuracy: 0.7895\n",
      "Epoch 4/50\n",
      "5/5 [==============================] - 0s 29ms/step - loss: 0.3677 - accuracy: 0.8467 - val_loss: 0.6122 - val_accuracy: 0.8158\n",
      "Epoch 5/50\n",
      "5/5 [==============================] - 0s 24ms/step - loss: 0.2709 - accuracy: 0.8800 - val_loss: 0.5704 - val_accuracy: 0.7368\n",
      "Epoch 6/50\n",
      "5/5 [==============================] - 0s 26ms/step - loss: 0.1823 - accuracy: 0.9400 - val_loss: 0.5659 - val_accuracy: 0.7895\n",
      "Epoch 7/50\n",
      "5/5 [==============================] - 0s 34ms/step - loss: 0.1668 - accuracy: 0.9467 - val_loss: 0.5333 - val_accuracy: 0.7895\n",
      "Epoch 8/50\n",
      "5/5 [==============================] - 0s 24ms/step - loss: 0.1201 - accuracy: 0.9600 - val_loss: 0.5054 - val_accuracy: 0.7632\n",
      "Epoch 9/50\n",
      "5/5 [==============================] - 0s 23ms/step - loss: 0.0761 - accuracy: 0.9933 - val_loss: 0.6049 - val_accuracy: 0.7632\n",
      "Epoch 10/50\n",
      "5/5 [==============================] - 0s 27ms/step - loss: 0.0586 - accuracy: 1.0000 - val_loss: 0.5617 - val_accuracy: 0.7632\n",
      "Epoch 11/50\n",
      "5/5 [==============================] - 0s 31ms/step - loss: 0.0648 - accuracy: 0.9733 - val_loss: 0.5317 - val_accuracy: 0.7895\n",
      "Epoch 12/50\n",
      "5/5 [==============================] - 0s 26ms/step - loss: 0.0645 - accuracy: 0.9867 - val_loss: 0.8684 - val_accuracy: 0.7105\n",
      "Epoch 13/50\n",
      "5/5 [==============================] - 0s 24ms/step - loss: 0.1092 - accuracy: 0.9467 - val_loss: 1.5092 - val_accuracy: 0.7632\n",
      "Epoch 14/50\n",
      "5/5 [==============================] - 0s 26ms/step - loss: 0.0781 - accuracy: 0.9667 - val_loss: 0.7219 - val_accuracy: 0.6842\n",
      "Epoch 15/50\n",
      "5/5 [==============================] - 0s 29ms/step - loss: 0.0937 - accuracy: 0.9600 - val_loss: 0.9347 - val_accuracy: 0.7632\n",
      "Epoch 16/50\n",
      "5/5 [==============================] - 0s 29ms/step - loss: 0.0322 - accuracy: 0.9933 - val_loss: 0.5375 - val_accuracy: 0.7895\n",
      "Epoch 17/50\n",
      "5/5 [==============================] - 0s 25ms/step - loss: 0.0213 - accuracy: 1.0000 - val_loss: 0.7427 - val_accuracy: 0.7895\n",
      "Epoch 18/50\n",
      "5/5 [==============================] - 0s 30ms/step - loss: 0.0215 - accuracy: 0.9933 - val_loss: 0.6285 - val_accuracy: 0.8158\n"
     ]
    }
   ],
   "source": [
    "# Train the model\n",
    "from tensorflow.keras.callbacks import EarlyStopping\n",
    "\n",
    "early_stopping = EarlyStopping(monitor='val_loss', patience=10, restore_best_weights=True)\n",
    "\n",
    "history = model.fit(X_train_rgb, y_train, epochs=50, batch_size=32, validation_split=0.2, callbacks=[early_stopping])"
   ]
  },
  {
   "cell_type": "code",
   "execution_count": 53,
   "id": "c30d81fc",
   "metadata": {},
   "outputs": [
    {
     "name": "stdout",
     "output_type": "stream",
     "text": [
      "2/2 [==============================] - 0s 124ms/step\n",
      "Accuracy: 0.89\n",
      "Precision: 0.88\n",
      "Recall: 0.95\n",
      "F1-score: 0.92\n"
     ]
    },
    {
     "name": "stderr",
     "output_type": "stream",
     "text": [
      "2024-06-27 16:22:15.732423: I tensorflow/core/grappler/optimizers/custom_graph_optimizer_registry.cc:114] Plugin optimizer for device_type GPU is enabled.\n"
     ]
    }
   ],
   "source": [
    "# Evaluate on the test set\n",
    "y_pred = model.predict(X_test_rgb)\n",
    "y_pred_classes = np.argmax(y_pred, axis=1)\n",
    "y_true = np.argmax(y_test, axis=1)\n",
    "\n",
    "# Calculate metrics\n",
    "accuracy = accuracy_score(y_true, y_pred_classes)\n",
    "precision = precision_score(y_true, y_pred_classes)\n",
    "recall = recall_score(y_true, y_pred_classes)\n",
    "f1 = f1_score(y_true, y_pred_classes)\n",
    "\n",
    "print(f\"Accuracy: {accuracy:.2f}\")\n",
    "print(f\"Precision: {precision:.2f}\")\n",
    "print(f\"Recall: {recall:.2f}\")\n",
    "print(f\"F1-score: {f1:.2f}\")"
   ]
  },
  {
   "cell_type": "code",
   "execution_count": 54,
   "id": "1eda670b",
   "metadata": {},
   "outputs": [],
   "source": [
    "# Seeing if I can improve the model to minimize false negatives\n",
    "\n",
    "# Modify custom layers on top\n",
    "x = Flatten()(base_model.output)\n",
    "x = Dense(512, activation='relu')(x)\n",
    "x = Dropout(0.5)(x)\n",
    "x = Dense(256, activation='relu')(x)\n",
    "x = Dropout(0.5)(x)\n",
    "output = Dense(2, activation='softmax')(x)\n",
    "\n",
    "# Define the modified model\n",
    "model = Model(inputs=base_model.input, outputs=output)\n",
    "\n",
    "# Compile the model with the same optimizer and loss function\n",
    "model.compile(optimizer=Adam(learning_rate=1e-4), loss='categorical_crossentropy', metrics=['accuracy'])"
   ]
  },
  {
   "cell_type": "code",
   "execution_count": 55,
   "id": "f676d72a",
   "metadata": {},
   "outputs": [
    {
     "name": "stdout",
     "output_type": "stream",
     "text": [
      "Epoch 1/50\n"
     ]
    },
    {
     "name": "stderr",
     "output_type": "stream",
     "text": [
      "2024-06-27 16:28:01.722675: I tensorflow/core/grappler/optimizers/custom_graph_optimizer_registry.cc:114] Plugin optimizer for device_type GPU is enabled.\n"
     ]
    },
    {
     "name": "stdout",
     "output_type": "stream",
     "text": [
      "5/5 [==============================] - 1s 113ms/step - loss: 1.5441 - accuracy: 0.5800 - val_loss: 0.5023 - val_accuracy: 0.7632\n",
      "Epoch 2/50\n"
     ]
    },
    {
     "name": "stderr",
     "output_type": "stream",
     "text": [
      "2024-06-27 16:28:02.241206: I tensorflow/core/grappler/optimizers/custom_graph_optimizer_registry.cc:114] Plugin optimizer for device_type GPU is enabled.\n"
     ]
    },
    {
     "name": "stdout",
     "output_type": "stream",
     "text": [
      "5/5 [==============================] - 0s 22ms/step - loss: 0.5733 - accuracy: 0.7867 - val_loss: 0.5957 - val_accuracy: 0.8158\n",
      "Epoch 3/50\n",
      "5/5 [==============================] - 0s 23ms/step - loss: 0.4010 - accuracy: 0.8467 - val_loss: 0.5191 - val_accuracy: 0.8158\n",
      "Epoch 4/50\n",
      "5/5 [==============================] - 0s 34ms/step - loss: 0.2971 - accuracy: 0.9067 - val_loss: 0.4984 - val_accuracy: 0.8158\n",
      "Epoch 5/50\n",
      "5/5 [==============================] - 0s 24ms/step - loss: 0.1847 - accuracy: 0.9467 - val_loss: 0.5086 - val_accuracy: 0.7632\n",
      "Epoch 6/50\n",
      "5/5 [==============================] - 0s 22ms/step - loss: 0.1555 - accuracy: 0.9267 - val_loss: 0.6343 - val_accuracy: 0.7895\n",
      "Epoch 7/50\n",
      "5/5 [==============================] - 0s 27ms/step - loss: 0.1311 - accuracy: 0.9533 - val_loss: 0.6366 - val_accuracy: 0.7632\n",
      "Epoch 8/50\n",
      "5/5 [==============================] - 0s 32ms/step - loss: 0.0927 - accuracy: 0.9667 - val_loss: 0.8400 - val_accuracy: 0.7632\n",
      "Epoch 9/50\n",
      "5/5 [==============================] - 0s 29ms/step - loss: 0.1142 - accuracy: 0.9600 - val_loss: 0.6395 - val_accuracy: 0.7368\n",
      "Epoch 10/50\n",
      "5/5 [==============================] - 0s 28ms/step - loss: 0.0938 - accuracy: 0.9733 - val_loss: 0.5898 - val_accuracy: 0.7632\n",
      "Epoch 11/50\n",
      "5/5 [==============================] - 0s 25ms/step - loss: 0.0484 - accuracy: 0.9800 - val_loss: 0.6024 - val_accuracy: 0.7895\n",
      "Epoch 12/50\n",
      "5/5 [==============================] - 0s 29ms/step - loss: 0.0223 - accuracy: 1.0000 - val_loss: 0.6457 - val_accuracy: 0.8158\n",
      "Epoch 13/50\n",
      "5/5 [==============================] - 0s 29ms/step - loss: 0.0153 - accuracy: 1.0000 - val_loss: 0.6824 - val_accuracy: 0.7895\n",
      "Epoch 14/50\n",
      "5/5 [==============================] - 0s 32ms/step - loss: 0.0204 - accuracy: 1.0000 - val_loss: 0.6658 - val_accuracy: 0.8158\n"
     ]
    }
   ],
   "source": [
    "class_weight = {0: 1.5, 1: 1.0}\n",
    "\n",
    "# Train the model with class weights\n",
    "history = model.fit(X_train_rgb, y_train, epochs=50, batch_size=32, validation_split=0.2, callbacks=[early_stopping], class_weight=class_weight)\n"
   ]
  },
  {
   "cell_type": "code",
   "execution_count": 56,
   "id": "b816dc07",
   "metadata": {},
   "outputs": [
    {
     "name": "stdout",
     "output_type": "stream",
     "text": [
      "Epoch 1/50\n",
      "5/5 [==============================] - 0s 40ms/step - loss: 0.1913 - accuracy: 0.9600 - val_loss: 0.5194 - val_accuracy: 0.7895\n",
      "Epoch 2/50\n",
      "5/5 [==============================] - 0s 32ms/step - loss: 0.1867 - accuracy: 0.9533 - val_loss: 0.4819 - val_accuracy: 0.8158\n",
      "Epoch 3/50\n",
      "5/5 [==============================] - 0s 22ms/step - loss: 0.1173 - accuracy: 0.9600 - val_loss: 0.5424 - val_accuracy: 0.7632\n",
      "Epoch 4/50\n",
      "5/5 [==============================] - 0s 23ms/step - loss: 0.1571 - accuracy: 0.9333 - val_loss: 0.9101 - val_accuracy: 0.6842\n",
      "Epoch 5/50\n",
      "5/5 [==============================] - 0s 28ms/step - loss: 0.1754 - accuracy: 0.9267 - val_loss: 0.6195 - val_accuracy: 0.8158\n",
      "Epoch 6/50\n",
      "5/5 [==============================] - 0s 32ms/step - loss: 0.0573 - accuracy: 0.9667 - val_loss: 1.0029 - val_accuracy: 0.7895\n",
      "Epoch 7/50\n",
      "5/5 [==============================] - 0s 33ms/step - loss: 0.0611 - accuracy: 0.9733 - val_loss: 0.6911 - val_accuracy: 0.7368\n",
      "Epoch 8/50\n",
      "5/5 [==============================] - 0s 28ms/step - loss: 0.0619 - accuracy: 0.9733 - val_loss: 0.7218 - val_accuracy: 0.7895\n",
      "Epoch 9/50\n",
      "5/5 [==============================] - 0s 26ms/step - loss: 0.0590 - accuracy: 0.9733 - val_loss: 0.7504 - val_accuracy: 0.8421\n",
      "Epoch 10/50\n",
      "5/5 [==============================] - 0s 26ms/step - loss: 0.0325 - accuracy: 0.9933 - val_loss: 0.7240 - val_accuracy: 0.8158\n",
      "Epoch 11/50\n",
      "5/5 [==============================] - 0s 28ms/step - loss: 0.0191 - accuracy: 1.0000 - val_loss: 0.6844 - val_accuracy: 0.8158\n",
      "Epoch 12/50\n",
      "5/5 [==============================] - 0s 32ms/step - loss: 0.0058 - accuracy: 1.0000 - val_loss: 0.7779 - val_accuracy: 0.8158\n",
      "2/2 [==============================] - 0s 41ms/step\n",
      "Accuracy: 0.89\n",
      "Precision: 0.90\n",
      "Recall: 0.93\n",
      "F1-score: 0.91\n"
     ]
    },
    {
     "name": "stderr",
     "output_type": "stream",
     "text": [
      "2024-06-27 16:28:12.703830: I tensorflow/core/grappler/optimizers/custom_graph_optimizer_registry.cc:114] Plugin optimizer for device_type GPU is enabled.\n"
     ]
    }
   ],
   "source": [
    "# Train the modified model\n",
    "history = model.fit(X_train_rgb, y_train, epochs=50, batch_size=32, validation_split=0.2, callbacks=[early_stopping], class_weight=class_weight)\n",
    "\n",
    "# Evaluate on the test set\n",
    "y_pred = model.predict(X_test_rgb)\n",
    "y_pred_classes = np.argmax(y_pred, axis=1)\n",
    "y_true = np.argmax(y_test, axis=1)\n",
    "\n",
    "# Calculate metrics\n",
    "accuracy = accuracy_score(y_true, y_pred_classes)\n",
    "precision = precision_score(y_true, y_pred_classes)\n",
    "recall = recall_score(y_true, y_pred_classes)\n",
    "f1 = f1_score(y_true, y_pred_classes)\n",
    "\n",
    "print(f\"Accuracy: {accuracy:.2f}\")\n",
    "print(f\"Precision: {precision:.2f}\")\n",
    "print(f\"Recall: {recall:.2f}\")\n",
    "print(f\"F1-score: {f1:.2f}\")\n"
   ]
  },
  {
   "cell_type": "code",
   "execution_count": 58,
   "id": "e048665d",
   "metadata": {},
   "outputs": [],
   "source": [
    "# Dang, we did worse with our recall. Well, I think I'll leave it there for now, having done enough damage for the moment. "
   ]
  },
  {
   "cell_type": "code",
   "execution_count": null,
   "id": "ed154e5c",
   "metadata": {},
   "outputs": [],
   "source": []
  }
 ],
 "metadata": {
  "kernelspec": {
   "display_name": "Python 3 (ipykernel)",
   "language": "python",
   "name": "python3"
  },
  "language_info": {
   "codemirror_mode": {
    "name": "ipython",
    "version": 3
   },
   "file_extension": ".py",
   "mimetype": "text/x-python",
   "name": "python",
   "nbconvert_exporter": "python",
   "pygments_lexer": "ipython3",
   "version": "3.8.18"
  }
 },
 "nbformat": 4,
 "nbformat_minor": 5
}
